{
 "cells": [
  {
   "cell_type": "code",
   "execution_count": 1,
   "id": "6e6362cd-13f8-49f3-a9ef-4dd47b408afb",
   "metadata": {},
   "outputs": [
    {
     "name": "stdout",
     "output_type": "stream",
     "text": [
      "Sonuç: 6.0\n"
     ]
    }
   ],
   "source": [
    "sayi=10\n",
    "sayi+= 5 \n",
    "sayi-= 3 \n",
    "sayi*= 2  \n",
    "sayi/= 4  \n",
    "\n",
    "print(\"Sonuç:\",sayi)"
   ]
  },
  {
   "cell_type": "code",
   "execution_count": 3,
   "id": "18fce794-59fc-4cd3-9f45-fb973b4cf18f",
   "metadata": {},
   "outputs": [
    {
     "name": "stdout",
     "output_type": "stream",
     "text": [
      "Python Programlama\n"
     ]
    }
   ],
   "source": [
    "metin=\"Python\"\n",
    "metin+=\" Programlama\"\n",
    "\n",
    "print(metin)"
   ]
  }
 ],
 "metadata": {
  "kernelspec": {
   "display_name": "Python [conda env:base] *",
   "language": "python",
   "name": "conda-base-py"
  },
  "language_info": {
   "codemirror_mode": {
    "name": "ipython",
    "version": 3
   },
   "file_extension": ".py",
   "mimetype": "text/x-python",
   "name": "python",
   "nbconvert_exporter": "python",
   "pygments_lexer": "ipython3",
   "version": "3.12.7"
  }
 },
 "nbformat": 4,
 "nbformat_minor": 5
}
