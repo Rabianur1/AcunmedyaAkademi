{
 "cells": [
  {
   "cell_type": "code",
   "execution_count": 1,
   "id": "72e6f798-d566-4122-a42f-4ad6978a4e33",
   "metadata": {},
   "outputs": [
    {
     "name": "stdin",
     "output_type": "stream",
     "text": [
      "Bir metin giriniz:    python programlama dili   \n"
     ]
    },
    {
     "name": "stdout",
     "output_type": "stream",
     "text": [
      "PYTHON PROGREMLEME DILI\n",
      "Kelime listesi: ['PYTHON', 'PROGREMLEME', 'DILI']\n"
     ]
    }
   ],
   "source": [
    "metin=input(\"Bir metin giriniz: \")\n",
    "metin=metin.upper()\n",
    "metin=metin.strip()\n",
    "metin=metin.replace(\"A\", \"E\")\n",
    "kelimeler=metin.split()\n",
    "\n",
    "print(metin)\n",
    "print(\"Kelime listesi:\",kelimeler)"
   ]
  },
  {
   "cell_type": "code",
   "execution_count": 3,
   "id": "b8d47256-2a24-44aa-9873-0d563a117bba",
   "metadata": {},
   "outputs": [
    {
     "name": "stdout",
     "output_type": "stream",
     "text": [
      "Ters çevrilmiş metin: ilid amalmargorp nohtyP\n",
      "Değişmiş metin: Python kodlama dili\n"
     ]
    }
   ],
   "source": [
    "metin=\"Python programlama dili\"\n",
    "ters_metin=metin[::-1]\n",
    "degismis_metin=metin.replace(\"programlama\", \"kodlama\")\n",
    "\n",
    "print(\"Ters çevrilmiş metin:\",ters_metin)\n",
    "print(\"Değişmiş metin:\",degismis_metin)"
   ]
  }
 ],
 "metadata": {
  "kernelspec": {
   "display_name": "Python [conda env:base] *",
   "language": "python",
   "name": "conda-base-py"
  },
  "language_info": {
   "codemirror_mode": {
    "name": "ipython",
    "version": 3
   },
   "file_extension": ".py",
   "mimetype": "text/x-python",
   "name": "python",
   "nbconvert_exporter": "python",
   "pygments_lexer": "ipython3",
   "version": "3.12.7"
  }
 },
 "nbformat": 4,
 "nbformat_minor": 5
}
