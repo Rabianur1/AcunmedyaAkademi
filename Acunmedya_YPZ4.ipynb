{
 "cells": [
  {
   "cell_type": "code",
   "execution_count": 1,
   "id": "82716bd7-db8b-4654-a98f-d54c6f3d002a",
   "metadata": {},
   "outputs": [
    {
     "name": "stdout",
     "output_type": "stream",
     "text": [
      "True\n",
      "False\n",
      "True\n"
     ]
    }
   ],
   "source": [
    "yas=21\n",
    "kosul=yas > 18 and yas < 65\n",
    "kosul1=yas < 18 or yas > 65\n",
    "kosul2=not(yas == 25)\n",
    "\n",
    "print(kosul)\n",
    "print(kosul1)\n",
    "print(kosul2)"
   ]
  },
  {
   "cell_type": "code",
   "execution_count": 3,
   "id": "4acccdec-2ea3-42e0-adfa-ef9fc65ac7db",
   "metadata": {},
   "outputs": [
    {
     "name": "stdin",
     "output_type": "stream",
     "text": [
      "Bir sayı giriniz:  20\n"
     ]
    },
    {
     "name": "stdout",
     "output_type": "stream",
     "text": [
      "True\n"
     ]
    }
   ],
   "source": [
    "sayi=int(input(\"Bir sayı giriniz: \"))\n",
    "kosul= sayi%2==0 and sayi>0\n",
    "\n",
    "print(kosul)"
   ]
  },
  {
   "cell_type": "code",
   "execution_count": 5,
   "id": "1e2bb3be-dd2b-46b8-92ec-6387b5007d1f",
   "metadata": {},
   "outputs": [
    {
     "name": "stdin",
     "output_type": "stream",
     "text": [
      "Yaşınızı giriniz:  21\n",
      "Ehliyetiniz var mı?(True/False)  True\n"
     ]
    },
    {
     "name": "stdout",
     "output_type": "stream",
     "text": [
      "Araba kullanabilirsiniz.\n"
     ]
    }
   ],
   "source": [
    "yas=int(input(\"Yaşınızı giriniz: \"))\n",
    "ehliyet=input(\"Ehliyetiniz var mı?(True/False) \")\n",
    "              \n",
    "if yas > 18 and ehliyet:\n",
    "    print(\"Araba kullanabilirsiniz.\")\n",
    "else:\n",
    "    print(\"Araba kullanamazsınız.\")"
   ]
  }
 ],
 "metadata": {
  "kernelspec": {
   "display_name": "Python [conda env:base] *",
   "language": "python",
   "name": "conda-base-py"
  },
  "language_info": {
   "codemirror_mode": {
    "name": "ipython",
    "version": 3
   },
   "file_extension": ".py",
   "mimetype": "text/x-python",
   "name": "python",
   "nbconvert_exporter": "python",
   "pygments_lexer": "ipython3",
   "version": "3.12.7"
  }
 },
 "nbformat": 4,
 "nbformat_minor": 5
}
