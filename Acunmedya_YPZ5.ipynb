{
 "cells": [
  {
   "cell_type": "code",
   "execution_count": 1,
   "id": "f004640d-66b9-496d-8b50-766ae42e1b50",
   "metadata": {},
   "outputs": [
    {
     "name": "stdin",
     "output_type": "stream",
     "text": [
      "Bir meyve adı giriniz:  ELMA\n"
     ]
    },
    {
     "name": "stdout",
     "output_type": "stream",
     "text": [
      "Meyve listede var mı?  True\n"
     ]
    }
   ],
   "source": [
    "meyveler=[\"elma\",\"armut\",\"çilek\",\"kiraz\"]\n",
    "meyve = input(\"Bir meyve adı giriniz: \").strip().lower()\n",
    "var_mi=meyve in meyveler\n",
    "\n",
    "print(\"Meyve listede var mı? \",var_mi)"
   ]
  },
  {
   "cell_type": "code",
   "execution_count": 3,
   "id": "b0729474-8c26-47cf-b6d9-07faa89e03da",
   "metadata": {},
   "outputs": [
    {
     "name": "stdin",
     "output_type": "stream",
     "text": [
      "Bir karakter giriniz:  O\n"
     ]
    },
    {
     "name": "stdout",
     "output_type": "stream",
     "text": [
      "Parolada bu karakter bulunmaktadır.\n"
     ]
    }
   ],
   "source": [
    "parola=\"PyThOn123\"\n",
    "karakter=input(\"Bir karakter giriniz: \")\n",
    "if karakter not in parola:\n",
    "    print(\"Parolada bu karakter yok.\")\n",
    "else:\n",
    "    print(\"Parolada bu karakter bulunmaktadır.\")"
   ]
  }
 ],
 "metadata": {
  "kernelspec": {
   "display_name": "Python [conda env:base] *",
   "language": "python",
   "name": "conda-base-py"
  },
  "language_info": {
   "codemirror_mode": {
    "name": "ipython",
    "version": 3
   },
   "file_extension": ".py",
   "mimetype": "text/x-python",
   "name": "python",
   "nbconvert_exporter": "python",
   "pygments_lexer": "ipython3",
   "version": "3.12.7"
  }
 },
 "nbformat": 4,
 "nbformat_minor": 5
}
