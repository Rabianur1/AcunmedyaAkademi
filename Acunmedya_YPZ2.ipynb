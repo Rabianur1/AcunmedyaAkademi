{
 "cells": [
  {
   "cell_type": "code",
   "execution_count": 1,
   "id": "e5239552-a4e4-4d9e-ab50-e02fa9bfc047",
   "metadata": {},
   "outputs": [
    {
     "name": "stdin",
     "output_type": "stream",
     "text": [
      "Birinci sayıyı giriniz:  20\n",
      "İkinci sayıyı giriniz:  12\n"
     ]
    },
    {
     "name": "stdout",
     "output_type": "stream",
     "text": [
      "Toplama: 32.0\n",
      "Çıkarma: 8.0\n",
      "Çarpma: 240.0\n",
      "Bölme: 1.6666666666666667\n",
      "Tam Bölme: 1.0\n",
      "Mod Alma: 8.0\n",
      "Üs Alma: 4096000000000000.0\n"
     ]
    }
   ],
   "source": [
    "sayi1=float(input(\"Birinci sayıyı giriniz: \"))\n",
    "sayi2=float(input(\"İkinci sayıyı giriniz: \"))\n",
    "\n",
    "toplama=sayi1 + sayi2\n",
    "cikarma=sayi1 - sayi2\n",
    "carpma=sayi1 * sayi2\n",
    "bolme=sayi1 / sayi2\n",
    "tam_bolme=sayi1 // sayi2\n",
    "mod=sayi1 % sayi2\n",
    "us=sayi1 ** sayi2\n",
    "\n",
    "print(\"Toplama:\",toplama)\n",
    "print(\"Çıkarma:\",cikarma)\n",
    "print(\"Çarpma:\",carpma)\n",
    "print(\"Bölme:\",bolme)\n",
    "print(\"Tam Bölme:\",tam_bolme)\n",
    "print(\"Mod Alma:\",mod)\n",
    "print(\"Üs Alma:\",us)"
   ]
  },
  {
   "cell_type": "code",
   "execution_count": 3,
   "id": "2a16ed06-7e88-49fa-a626-717127f99177",
   "metadata": {},
   "outputs": [
    {
     "name": "stdin",
     "output_type": "stream",
     "text": [
      "Dairenin yarıçapını giriniz:  6\n"
     ]
    },
    {
     "name": "stdout",
     "output_type": "stream",
     "text": [
      "Dairenin alanı: 113.04\n"
     ]
    }
   ],
   "source": [
    "pi=3.14\n",
    "yaricap=float(input(\"Dairenin yarıçapını giriniz: \"))\n",
    "alan=pi*(yaricap ** 2)\n",
    "\n",
    "print(\"Dairenin alanı:\",alan)"
   ]
  }
 ],
 "metadata": {
  "kernelspec": {
   "display_name": "Python [conda env:base] *",
   "language": "python",
   "name": "conda-base-py"
  },
  "language_info": {
   "codemirror_mode": {
    "name": "ipython",
    "version": 3
   },
   "file_extension": ".py",
   "mimetype": "text/x-python",
   "name": "python",
   "nbconvert_exporter": "python",
   "pygments_lexer": "ipython3",
   "version": "3.12.7"
  }
 },
 "nbformat": 4,
 "nbformat_minor": 5
}
