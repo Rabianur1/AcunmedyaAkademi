{
 "cells": [
  {
   "cell_type": "code",
   "execution_count": 1,
   "id": "172b94ee-7aec-4f7f-9150-01d1e17d9f59",
   "metadata": {},
   "outputs": [
    {
     "name": "stdout",
     "output_type": "stream",
     "text": [
      "İsim: Rabianur Becit\n",
      "Yaş: 20\n",
      "Boy: 1.66\n",
      "Öğrenci mi?: True\n"
     ]
    }
   ],
   "source": [
    "isim=\"Rabianur Becit\"\n",
    "yas=20 \n",
    "boy=1.66\n",
    "ogrenci_mi=True\n",
    "\n",
    "print(\"İsim:\",isim)\n",
    "print(\"Yaş:\",yas)\n",
    "print(\"Boy:\",boy)\n",
    "print(\"Öğrenci mi?:\",ogrenci_mi)"
   ]
  },
  {
   "cell_type": "code",
   "execution_count": 3,
   "id": "fec8ce6d-26c2-42ca-8d0e-1f3aac0f99dc",
   "metadata": {},
   "outputs": [
    {
     "name": "stdin",
     "output_type": "stream",
     "text": [
      "Doğum yılınızı giriniz:  2004\n"
     ]
    },
    {
     "name": "stdout",
     "output_type": "stream",
     "text": [
      "Yaşınız: 21\n"
     ]
    }
   ],
   "source": [
    "dogum_yili=int(input(\"Doğum yılınızı giriniz: \"))\n",
    "yas=2025-dogum_yili\n",
    "\n",
    "print(\"Yaşınız:\",yas)"
   ]
  }
 ],
 "metadata": {
  "kernelspec": {
   "display_name": "Python [conda env:base] *",
   "language": "python",
   "name": "conda-base-py"
  },
  "language_info": {
   "codemirror_mode": {
    "name": "ipython",
    "version": 3
   },
   "file_extension": ".py",
   "mimetype": "text/x-python",
   "name": "python",
   "nbconvert_exporter": "python",
   "pygments_lexer": "ipython3",
   "version": "3.12.7"
  }
 },
 "nbformat": 4,
 "nbformat_minor": 5
}
