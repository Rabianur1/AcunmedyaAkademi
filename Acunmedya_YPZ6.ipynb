{
 "cells": [
  {
   "cell_type": "code",
   "execution_count": 1,
   "id": "40849dd9-6c0d-42f3-ab4c-a76c551afe78",
   "metadata": {},
   "outputs": [
    {
     "name": "stdout",
     "output_type": "stream",
     "text": [
      "True\n",
      "False\n"
     ]
    }
   ],
   "source": [
    "a = 256\n",
    "b = 256\n",
    "print(a is b) #256'ya kadar aynı değeri taşıyan sayılar aynı bellek adresinde tutulur, ikisi de aynı bellek adresini işaret eder.\n",
    "\n",
    "c = 257\n",
    "d = 257\n",
    "print(c is d) #257 ve sonrası için ayrı bellek adreslerinde tutulur, farklı bellek alanlarını işaret ederler."
   ]
  }
 ],
 "metadata": {
  "kernelspec": {
   "display_name": "Python [conda env:base] *",
   "language": "python",
   "name": "conda-base-py"
  },
  "language_info": {
   "codemirror_mode": {
    "name": "ipython",
    "version": 3
   },
   "file_extension": ".py",
   "mimetype": "text/x-python",
   "name": "python",
   "nbconvert_exporter": "python",
   "pygments_lexer": "ipython3",
   "version": "3.12.7"
  }
 },
 "nbformat": 4,
 "nbformat_minor": 5
}
